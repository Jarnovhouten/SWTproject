{
  "nbformat": 4,
  "nbformat_minor": 0,
  "metadata": {
    "colab": {
      "provenance": [],
      "machine_shape": "hm"
    },
    "kernelspec": {
      "name": "python3",
      "display_name": "Python 3"
    },
    "language_info": {
      "name": "python"
    }
  },
  "cells": [
    {
      "cell_type": "markdown",
      "source": [
        "##This notebook was used to create the album embeddings and train the corresponding KNN model"
      ],
      "metadata": {
        "id": "K1Zg4NCqih8y"
      }
    },
    {
      "cell_type": "code",
      "execution_count": null,
      "metadata": {
        "colab": {
          "base_uri": "https://localhost:8080/"
        },
        "id": "kkXcnljBL5c_",
        "outputId": "9478ca7a-194e-46d5-bd0a-a4f390457a4c"
      },
      "outputs": [
        {
          "output_type": "stream",
          "name": "stdout",
          "text": [
            "Mounted at /content/gdrive\n"
          ]
        }
      ],
      "source": [
        "from google.colab import drive\n",
        "drive.mount('/content/gdrive')"
      ]
    },
    {
      "cell_type": "code",
      "source": [
        "%%capture\n",
        "!pip install pyrdf2vec rdflib"
      ],
      "metadata": {
        "id": "keMbCdkJMJrl"
      },
      "execution_count": null,
      "outputs": []
    },
    {
      "cell_type": "code",
      "source": [
        "path = '/content/gdrive/MyDrive/SWT/'\n",
        "save_path = '/content/gdrive/MyDrive/SWT/final_data/final'"
      ],
      "metadata": {
        "id": "zGa2ns9GMBVX"
      },
      "execution_count": null,
      "outputs": []
    },
    {
      "cell_type": "code",
      "source": [
        "%%capture\n",
        "import pandas as pd\n",
        "import rdflib\n",
        "from pyrdf2vec import RDF2VecTransformer\n",
        "from pyrdf2vec.embedders import Word2Vec\n",
        "from pyrdf2vec.graphs import KG\n",
        "from pyrdf2vec.walkers import RandomWalker"
      ],
      "metadata": {
        "id": "mYrrPN6gMHIi"
      },
      "execution_count": null,
      "outputs": []
    },
    {
      "cell_type": "markdown",
      "source": [
        "###Load in KG and create embeddings"
      ],
      "metadata": {
        "id": "gIL7nmnWil8b"
      }
    },
    {
      "cell_type": "code",
      "source": [
        "transformer = RDF2VecTransformer(\n",
        "    Word2Vec(epochs=10),\n",
        "    walkers=[RandomWalker(4, 10, with_reverse=False, n_jobs=2)],\n",
        "    verbose=1\n",
        ")"
      ],
      "metadata": {
        "id": "dKzSw61YMezJ"
      },
      "execution_count": null,
      "outputs": []
    },
    {
      "cell_type": "code",
      "source": [
        "kg = KG(\n",
        "        path + \"album.ttl\",\n",
        "        fmt='turtle',\n",
        "        skip_predicates={\n",
        "        \"http://ns.inria.fr/wasabi/ontology/iTunes_page\",\n",
        "        \"http://purl.org/ontology/mo/musicbrainz_guid\",\n",
        "        \"http://purl.org/ontology/mo/discogs\",\n",
        "        \"http://ns.inria.fr/wasabi/ontology/amazon_page\",\n",
        "        \"http://purl.org/ontology/mo/musicbrainz\",\n",
        "        \"http://schema.org/barcode\",\n",
        "        \"http://ns.inria.fr/wasabi/ontology/discogs_id\",\n",
        "        \"http://ns.inria.fr/wasabi/ontology/allMusic_page\",\n",
        "        \"http://ns.inria.fr/wasabi/ontology/deezer_page\",\n",
        "        \"http://ns.inria.fr/wasabi/ontology/deezer_album_id\",\n",
        "        \"http://purl.org/ontology/mo/upc\",\n",
        "        \"http://purl.org/ontology/mo/homepage\",\n",
        "        \"http://purl.org/ontology/mo/uuid\",\n",
        "        \"http://purl.org/ontology/mo/wikipedia\",\n",
        "        \"http://ns.inria.fr/wasabi/ontology/spotify_page\",\n",
        "        },\n",
        "        literals = [\n",
        "        [\"http://purl.org/dc/terms/title\"],\n",
        "        [\"http://purl.org/ontology/mo/genre\"],\n",
        "        [\"http://purl.org/ontology/mo/performer\"],\n",
        "        [\"http://purl.org/dc/terms/language\"],\n",
        "        [\"http://schema.org/location\"],\n",
        "        [\"http://ns.inria.fr/wasabi/ontology/has_explicit_lyrics\"]\n",
        "    ],\n",
        ")"
      ],
      "metadata": {
        "id": "Lq_THSitSaPS"
      },
      "execution_count": null,
      "outputs": []
    },
    {
      "cell_type": "code",
      "source": [
        "data = pd.read_csv(path + \"album_entities.csv\")\n",
        "entities = data[data.columns[0]].values.tolist()"
      ],
      "metadata": {
        "id": "ecJchGWyMPhg"
      },
      "execution_count": null,
      "outputs": []
    },
    {
      "cell_type": "code",
      "source": [
        "embeddings, literals = transformer.fit_transform(\n",
        "    kg,\n",
        "    entities\n",
        ")"
      ],
      "metadata": {
        "colab": {
          "base_uri": "https://localhost:8080/"
        },
        "id": "nJ1cggV2Mj7a",
        "outputId": "dcd972d3-eef1-49df-bd39-61cb361baf4d"
      },
      "execution_count": null,
      "outputs": [
        {
          "output_type": "stream",
          "name": "stderr",
          "text": [
            "100%|██████████| 208742/208742 [04:23<00:00, 793.48it/s]\n"
          ]
        },
        {
          "output_type": "stream",
          "name": "stdout",
          "text": [
            "Extracted 1497945 walks for 208742 entities (263.7932s)\n",
            "Fitted 1497945 walks (55.5794s)\n"
          ]
        },
        {
          "output_type": "stream",
          "name": "stderr",
          "text": [
            "100%|██████████| 208742/208742 [00:21<00:00, 9716.55it/s]"
          ]
        },
        {
          "output_type": "stream",
          "name": "stdout",
          "text": [
            "Extracted 208742 literals for 208742 entities (21.4883s)\n"
          ]
        },
        {
          "output_type": "stream",
          "name": "stderr",
          "text": [
            "\n"
          ]
        }
      ]
    },
    {
      "cell_type": "markdown",
      "source": [
        "###Save embeddings and entities as .npy files"
      ],
      "metadata": {
        "id": "8Ta_Oa1eiq8I"
      }
    },
    {
      "cell_type": "code",
      "source": [
        "import numpy as np"
      ],
      "metadata": {
        "id": "1Vl25OwP7r5D"
      },
      "execution_count": null,
      "outputs": []
    },
    {
      "cell_type": "code",
      "source": [
        "import pickle"
      ],
      "metadata": {
        "id": "pN8HrwZV8T36"
      },
      "execution_count": null,
      "outputs": []
    },
    {
      "cell_type": "code",
      "source": [
        "embeddings_array = np.array(embeddings)\n",
        "output_file_path = save_path + \"album_embeddings.npy\"\n",
        "np.save(output_file_path, embeddings_array)"
      ],
      "metadata": {
        "id": "vZgZorhT8Yk0"
      },
      "execution_count": null,
      "outputs": []
    },
    {
      "cell_type": "code",
      "source": [
        "literals_array = np.array(literals)\n",
        "output_file_path = save_path + \"album_literals.npy\"\n",
        "np.save(output_file_path, literals_array)"
      ],
      "metadata": {
        "id": "qlqT0ak5PzWp"
      },
      "execution_count": null,
      "outputs": []
    },
    {
      "cell_type": "code",
      "source": [
        "np_ents = np.array(entities)\n",
        "np.save(save_path + 'album_entities.npy', np_ents)"
      ],
      "metadata": {
        "id": "YPsYOvvC9tf2"
      },
      "execution_count": null,
      "outputs": []
    },
    {
      "cell_type": "markdown",
      "source": [
        "###Train and save KNN model"
      ],
      "metadata": {
        "id": "Jz0LTYuCixDD"
      }
    },
    {
      "cell_type": "code",
      "source": [
        "from sklearn.neighbors import NearestNeighbors\n",
        "\n",
        "embeddings = np.load(save_path + 'album_embeddings.npy')\n",
        "\n",
        "n_neighbors = 5\n",
        "knn_model = NearestNeighbors(n_neighbors=n_neighbors, algorithm='brute', metric='cosine')\n",
        "knn_model.fit(embeddings)"
      ],
      "metadata": {
        "colab": {
          "base_uri": "https://localhost:8080/",
          "height": 74
        },
        "id": "YPBYGkrn8lRS",
        "outputId": "0183bc57-7b81-46a8-b90d-45545b7c5cb9"
      },
      "execution_count": null,
      "outputs": [
        {
          "output_type": "execute_result",
          "data": {
            "text/plain": [
              "NearestNeighbors(algorithm='brute', metric='cosine')"
            ],
            "text/html": [
              "<style>#sk-container-id-1 {color: black;background-color: white;}#sk-container-id-1 pre{padding: 0;}#sk-container-id-1 div.sk-toggleable {background-color: white;}#sk-container-id-1 label.sk-toggleable__label {cursor: pointer;display: block;width: 100%;margin-bottom: 0;padding: 0.3em;box-sizing: border-box;text-align: center;}#sk-container-id-1 label.sk-toggleable__label-arrow:before {content: \"▸\";float: left;margin-right: 0.25em;color: #696969;}#sk-container-id-1 label.sk-toggleable__label-arrow:hover:before {color: black;}#sk-container-id-1 div.sk-estimator:hover label.sk-toggleable__label-arrow:before {color: black;}#sk-container-id-1 div.sk-toggleable__content {max-height: 0;max-width: 0;overflow: hidden;text-align: left;background-color: #f0f8ff;}#sk-container-id-1 div.sk-toggleable__content pre {margin: 0.2em;color: black;border-radius: 0.25em;background-color: #f0f8ff;}#sk-container-id-1 input.sk-toggleable__control:checked~div.sk-toggleable__content {max-height: 200px;max-width: 100%;overflow: auto;}#sk-container-id-1 input.sk-toggleable__control:checked~label.sk-toggleable__label-arrow:before {content: \"▾\";}#sk-container-id-1 div.sk-estimator input.sk-toggleable__control:checked~label.sk-toggleable__label {background-color: #d4ebff;}#sk-container-id-1 div.sk-label input.sk-toggleable__control:checked~label.sk-toggleable__label {background-color: #d4ebff;}#sk-container-id-1 input.sk-hidden--visually {border: 0;clip: rect(1px 1px 1px 1px);clip: rect(1px, 1px, 1px, 1px);height: 1px;margin: -1px;overflow: hidden;padding: 0;position: absolute;width: 1px;}#sk-container-id-1 div.sk-estimator {font-family: monospace;background-color: #f0f8ff;border: 1px dotted black;border-radius: 0.25em;box-sizing: border-box;margin-bottom: 0.5em;}#sk-container-id-1 div.sk-estimator:hover {background-color: #d4ebff;}#sk-container-id-1 div.sk-parallel-item::after {content: \"\";width: 100%;border-bottom: 1px solid gray;flex-grow: 1;}#sk-container-id-1 div.sk-label:hover label.sk-toggleable__label {background-color: #d4ebff;}#sk-container-id-1 div.sk-serial::before {content: \"\";position: absolute;border-left: 1px solid gray;box-sizing: border-box;top: 0;bottom: 0;left: 50%;z-index: 0;}#sk-container-id-1 div.sk-serial {display: flex;flex-direction: column;align-items: center;background-color: white;padding-right: 0.2em;padding-left: 0.2em;position: relative;}#sk-container-id-1 div.sk-item {position: relative;z-index: 1;}#sk-container-id-1 div.sk-parallel {display: flex;align-items: stretch;justify-content: center;background-color: white;position: relative;}#sk-container-id-1 div.sk-item::before, #sk-container-id-1 div.sk-parallel-item::before {content: \"\";position: absolute;border-left: 1px solid gray;box-sizing: border-box;top: 0;bottom: 0;left: 50%;z-index: -1;}#sk-container-id-1 div.sk-parallel-item {display: flex;flex-direction: column;z-index: 1;position: relative;background-color: white;}#sk-container-id-1 div.sk-parallel-item:first-child::after {align-self: flex-end;width: 50%;}#sk-container-id-1 div.sk-parallel-item:last-child::after {align-self: flex-start;width: 50%;}#sk-container-id-1 div.sk-parallel-item:only-child::after {width: 0;}#sk-container-id-1 div.sk-dashed-wrapped {border: 1px dashed gray;margin: 0 0.4em 0.5em 0.4em;box-sizing: border-box;padding-bottom: 0.4em;background-color: white;}#sk-container-id-1 div.sk-label label {font-family: monospace;font-weight: bold;display: inline-block;line-height: 1.2em;}#sk-container-id-1 div.sk-label-container {text-align: center;}#sk-container-id-1 div.sk-container {/* jupyter's `normalize.less` sets `[hidden] { display: none; }` but bootstrap.min.css set `[hidden] { display: none !important; }` so we also need the `!important` here to be able to override the default hidden behavior on the sphinx rendered scikit-learn.org. See: https://github.com/scikit-learn/scikit-learn/issues/21755 */display: inline-block !important;position: relative;}#sk-container-id-1 div.sk-text-repr-fallback {display: none;}</style><div id=\"sk-container-id-1\" class=\"sk-top-container\"><div class=\"sk-text-repr-fallback\"><pre>NearestNeighbors(algorithm=&#x27;brute&#x27;, metric=&#x27;cosine&#x27;)</pre><b>In a Jupyter environment, please rerun this cell to show the HTML representation or trust the notebook. <br />On GitHub, the HTML representation is unable to render, please try loading this page with nbviewer.org.</b></div><div class=\"sk-container\" hidden><div class=\"sk-item\"><div class=\"sk-estimator sk-toggleable\"><input class=\"sk-toggleable__control sk-hidden--visually\" id=\"sk-estimator-id-1\" type=\"checkbox\" checked><label for=\"sk-estimator-id-1\" class=\"sk-toggleable__label sk-toggleable__label-arrow\">NearestNeighbors</label><div class=\"sk-toggleable__content\"><pre>NearestNeighbors(algorithm=&#x27;brute&#x27;, metric=&#x27;cosine&#x27;)</pre></div></div></div></div></div>"
            ]
          },
          "metadata": {},
          "execution_count": 15
        }
      ]
    },
    {
      "cell_type": "code",
      "source": [
        "%%capture\n",
        "!pip install joblib"
      ],
      "metadata": {
        "id": "ec2UQt3nXdoV"
      },
      "execution_count": null,
      "outputs": []
    },
    {
      "cell_type": "code",
      "source": [
        "import joblib\n",
        "\n",
        "# Save the NearestNeighbors model to a file\n",
        "model_filename = save_path + 'album_knn_model.pkl'\n",
        "joblib.dump(knn_model, model_filename)"
      ],
      "metadata": {
        "id": "9ubHqNC5Xf6W"
      },
      "execution_count": null,
      "outputs": []
    }
  ]
}