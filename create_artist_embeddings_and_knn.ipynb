{
  "nbformat": 4,
  "nbformat_minor": 0,
  "metadata": {
    "colab": {
      "provenance": [],
      "machine_shape": "hm"
    },
    "kernelspec": {
      "name": "python3",
      "display_name": "Python 3"
    },
    "language_info": {
      "name": "python"
    }
  },
  "cells": [
    {
      "cell_type": "markdown",
      "source": [
        "##This notebook was used to create the artist embeddings and train the corresponding KNN model"
      ],
      "metadata": {
        "id": "uzOJsS4DhjZA"
      }
    },
    {
      "cell_type": "code",
      "execution_count": null,
      "metadata": {
        "colab": {
          "base_uri": "https://localhost:8080/"
        },
        "id": "kkXcnljBL5c_",
        "outputId": "9be7df6c-e9d6-403f-d9e7-51b1b2c9d6cb"
      },
      "outputs": [
        {
          "output_type": "stream",
          "name": "stdout",
          "text": [
            "Mounted at /content/gdrive\n"
          ]
        }
      ],
      "source": [
        "from google.colab import drive\n",
        "drive.mount('/content/gdrive')"
      ]
    },
    {
      "cell_type": "code",
      "source": [
        "%%capture\n",
        "!pip install pyrdf2vec rdflib"
      ],
      "metadata": {
        "id": "keMbCdkJMJrl"
      },
      "execution_count": null,
      "outputs": []
    },
    {
      "cell_type": "code",
      "source": [
        "path = '/content/gdrive/MyDrive/SWT/'\n",
        "save_path = '/content/gdrive/MyDrive/SWT/output/'"
      ],
      "metadata": {
        "id": "zGa2ns9GMBVX"
      },
      "execution_count": null,
      "outputs": []
    },
    {
      "cell_type": "code",
      "source": [
        "%%capture\n",
        "import pandas as pd\n",
        "import rdflib\n",
        "from pyrdf2vec import RDF2VecTransformer\n",
        "from pyrdf2vec.embedders import Word2Vec\n",
        "from pyrdf2vec.graphs import KG\n",
        "from pyrdf2vec.walkers import RandomWalker"
      ],
      "metadata": {
        "id": "mYrrPN6gMHIi"
      },
      "execution_count": null,
      "outputs": []
    },
    {
      "cell_type": "markdown",
      "source": [
        "###Load in KG and create embeddings"
      ],
      "metadata": {
        "id": "9hxenvahiC7l"
      }
    },
    {
      "cell_type": "code",
      "source": [
        "transformer = RDF2VecTransformer(\n",
        "    Word2Vec(epochs=10),\n",
        "    walkers=[RandomWalker(4, 10, with_reverse=False, n_jobs=2)],\n",
        "    verbose=1\n",
        ")"
      ],
      "metadata": {
        "id": "dKzSw61YMezJ"
      },
      "execution_count": null,
      "outputs": []
    },
    {
      "cell_type": "code",
      "source": [
        "kg = KG(\n",
        "        path + \"artist.ttl\",\n",
        "        fmt='turtle',\n",
        "        skip_predicates = {\n",
        "            \"http://xmlns.com/foaf/0.1/name\",\n",
        "            \"http://ns.inria.fr/wasabi/ontology/iTunes_page\",\n",
        "            \"http://purl.org/ontology/mo/musicbrainz_guid\",\n",
        "            \"http://purl.org/ontology/mo/discogs\",\n",
        "            \"http://ns.inria.fr/wasabi/ontology/secondHandSongs_page\",\n",
        "            \"http://ns.inria.fr/wasabi/ontology/amazon_page\",\n",
        "            \"http://ns.inria.fr/wasabi/ontology/name_without_accent\",\n",
        "            \"http://schema.org/disambiguatingDescription\",\n",
        "            \"http://ns.inria.fr/wasabi/ontology/wikidata_page\",\n",
        "            \"http://purl.org/ontology/mo/musicbrainz\",\n",
        "            \"http://ns.inria.fr/wasabi/ontology/musicbrainz_id\",\n",
        "            \"http://ns.inria.fr/wasabi/ontology/BBC_page\",\n",
        "            \"http://ns.inria.fr/wasabi/ontology/instagram_page\",\n",
        "            \"http://ns.inria.fr/wasabi/ontology/discogs_id\",\n",
        "            \"http://purl.org/ontology/mo/myspace\",\n",
        "            \"http://ns.inria.fr/wasabi/ontology/twitter_page\",\n",
        "            \"http://ns.inria.fr/wasabi/ontology/allMusic_page\",\n",
        "            \"http://ns.inria.fr/wasabi/ontology/deezer_page\",\n",
        "            \"http://ns.inria.fr/wasabi/ontology/deezer_artist_id\",\n",
        "            \"http://ns.inria.fr/wasabi/ontology/soundCloud_page\",\n",
        "            \"http://ns.inria.fr/wasabi/ontology/pureVolume_page\",\n",
        "            \"http://purl.org/ontology/mo/homepage\",\n",
        "            \"http://ns.inria.fr/wasabi/ontology/lastFm_page\",\n",
        "            \"http://ns.inria.fr/wasabi/ontology/googlePlus_page\",\n",
        "            \"http://ns.inria.fr/wasabi/ontology/youTube_page\",\n",
        "            \"http://purl.org/ontology/mo/uuid\",\n",
        "            \"http://ns.inria.fr/wasabi/ontology/rateYourMusic_page\",\n",
        "            \"http://purl.org/ontology/mo/wikipedia\",\n",
        "            \"http://ns.inria.fr/wasabi/ontology/wikia_page\",\n",
        "            \"http://ns.inria.fr/wasabi/ontology/spotify_page\",\n",
        "            \"http://ns.inria.fr/wasabi/ontology/facebook_page\"\n",
        "        },\n",
        "        literals = [\n",
        "        ['http://www.w3.org/2000/01/rdf-schema#label'],\n",
        "        ['http://dbpedia.org/ontology/abstract'],\n",
        "        ['http://dbpedia.org/ontology/genre'],\n",
        "        ['http://ns.inria.fr/wasabi/ontology/location'],\n",
        "        ['http://ns.inria.fr/wasabi/ontology/record_label'],\n",
        "        ['http://purl.org/dc/terms/subject'],\n",
        "        ['http://xmlns.com/foaf/0.1/gender'],\n",
        "        ['http://ns.inria.fr/wasabi/ontology/city'],\n",
        "        ['http://dbpedia.org/ontology/associatedMusicalArtist'],\n",
        "        ['http://ns.inria.fr/wasabi/ontology/country']\n",
        "    ],\n",
        ")"
      ],
      "metadata": {
        "id": "Lq_THSitSaPS"
      },
      "execution_count": null,
      "outputs": []
    },
    {
      "cell_type": "code",
      "source": [
        "data = pd.read_csv(path + \"artist_entities.csv\")\n",
        "entities = data[data.columns[0]].values.tolist()"
      ],
      "metadata": {
        "id": "ecJchGWyMPhg"
      },
      "execution_count": null,
      "outputs": []
    },
    {
      "cell_type": "code",
      "source": [
        "embeddings, literals = transformer.fit_transform(\n",
        "    kg,\n",
        "    entities\n",
        ")"
      ],
      "metadata": {
        "colab": {
          "base_uri": "https://localhost:8080/"
        },
        "id": "nJ1cggV2Mj7a",
        "outputId": "fbb8bebe-fb9c-4ec4-a8b7-b8cecc789c9d"
      },
      "execution_count": null,
      "outputs": [
        {
          "output_type": "stream",
          "name": "stderr",
          "text": [
            "100%|██████████| 77491/77491 [02:05<00:00, 615.16it/s]\n"
          ]
        },
        {
          "output_type": "stream",
          "name": "stdout",
          "text": [
            "Extracted 584390 walks for 77491 entities (126.4480s)\n",
            "Fitted 584390 walks (26.8101s)\n"
          ]
        },
        {
          "output_type": "stream",
          "name": "stderr",
          "text": [
            "100%|██████████| 77491/77491 [00:14<00:00, 5513.72it/s]"
          ]
        },
        {
          "output_type": "stream",
          "name": "stdout",
          "text": [
            "Extracted 77491 literals for 77491 entities (14.0602s)\n"
          ]
        },
        {
          "output_type": "stream",
          "name": "stderr",
          "text": [
            "\n"
          ]
        }
      ]
    },
    {
      "cell_type": "markdown",
      "source": [
        "###Save embeddings"
      ],
      "metadata": {
        "id": "Lb2hnQ4yiOJP"
      }
    },
    {
      "cell_type": "code",
      "source": [
        "import numpy as np"
      ],
      "metadata": {
        "id": "1Vl25OwP7r5D"
      },
      "execution_count": null,
      "outputs": []
    },
    {
      "cell_type": "code",
      "source": [
        "import pickle"
      ],
      "metadata": {
        "id": "pN8HrwZV8T36"
      },
      "execution_count": null,
      "outputs": []
    },
    {
      "cell_type": "code",
      "source": [
        "embeddings_array = np.array(embeddings)\n",
        "output_file_path = save_path + \"artist_embeddings.npy\"\n",
        "np.save(output_file_path, embeddings_array)"
      ],
      "metadata": {
        "id": "vZgZorhT8Yk0"
      },
      "execution_count": null,
      "outputs": []
    },
    {
      "cell_type": "code",
      "source": [
        "literals_array = np.array(literals)\n",
        "output_file_path = save_path + \"artist_literals.npy\"\n",
        "np.save(output_file_path, literals_array)"
      ],
      "metadata": {
        "id": "qlqT0ak5PzWp",
        "colab": {
          "base_uri": "https://localhost:8080/"
        },
        "outputId": "1b5b2bfb-73c6-46a3-b1ce-40a899803be6"
      },
      "execution_count": null,
      "outputs": [
        {
          "output_type": "stream",
          "name": "stderr",
          "text": [
            "<ipython-input-12-93408226bf0e>:1: VisibleDeprecationWarning: Creating an ndarray from ragged nested sequences (which is a list-or-tuple of lists-or-tuples-or ndarrays with different lengths or shapes) is deprecated. If you meant to do this, you must specify 'dtype=object' when creating the ndarray.\n",
            "  literals_array = np.array(literals)\n"
          ]
        }
      ]
    },
    {
      "cell_type": "markdown",
      "source": [
        "###Train and save KNN model"
      ],
      "metadata": {
        "id": "_nOzX1bwiSI6"
      }
    },
    {
      "cell_type": "code",
      "source": [
        "from sklearn.neighbors import NearestNeighbors\n",
        "\n",
        "embeddings = np.load(save_path + 'artist_embeddings.npy')\n",
        "\n",
        "n_neighbors = 5\n",
        "knn_model = NearestNeighbors(n_neighbors=n_neighbors, algorithm='brute', metric='cosine')\n",
        "knn_model.fit(embeddings)"
      ],
      "metadata": {
        "id": "YPBYGkrn8lRS",
        "colab": {
          "base_uri": "https://localhost:8080/",
          "height": 74
        },
        "outputId": "eb14c3d5-d627-4799-cec6-ef4c5dce43dd"
      },
      "execution_count": null,
      "outputs": [
        {
          "output_type": "execute_result",
          "data": {
            "text/plain": [
              "NearestNeighbors(algorithm='brute', metric='cosine')"
            ],
            "text/html": [
              "<style>#sk-container-id-1 {color: black;background-color: white;}#sk-container-id-1 pre{padding: 0;}#sk-container-id-1 div.sk-toggleable {background-color: white;}#sk-container-id-1 label.sk-toggleable__label {cursor: pointer;display: block;width: 100%;margin-bottom: 0;padding: 0.3em;box-sizing: border-box;text-align: center;}#sk-container-id-1 label.sk-toggleable__label-arrow:before {content: \"▸\";float: left;margin-right: 0.25em;color: #696969;}#sk-container-id-1 label.sk-toggleable__label-arrow:hover:before {color: black;}#sk-container-id-1 div.sk-estimator:hover label.sk-toggleable__label-arrow:before {color: black;}#sk-container-id-1 div.sk-toggleable__content {max-height: 0;max-width: 0;overflow: hidden;text-align: left;background-color: #f0f8ff;}#sk-container-id-1 div.sk-toggleable__content pre {margin: 0.2em;color: black;border-radius: 0.25em;background-color: #f0f8ff;}#sk-container-id-1 input.sk-toggleable__control:checked~div.sk-toggleable__content {max-height: 200px;max-width: 100%;overflow: auto;}#sk-container-id-1 input.sk-toggleable__control:checked~label.sk-toggleable__label-arrow:before {content: \"▾\";}#sk-container-id-1 div.sk-estimator input.sk-toggleable__control:checked~label.sk-toggleable__label {background-color: #d4ebff;}#sk-container-id-1 div.sk-label input.sk-toggleable__control:checked~label.sk-toggleable__label {background-color: #d4ebff;}#sk-container-id-1 input.sk-hidden--visually {border: 0;clip: rect(1px 1px 1px 1px);clip: rect(1px, 1px, 1px, 1px);height: 1px;margin: -1px;overflow: hidden;padding: 0;position: absolute;width: 1px;}#sk-container-id-1 div.sk-estimator {font-family: monospace;background-color: #f0f8ff;border: 1px dotted black;border-radius: 0.25em;box-sizing: border-box;margin-bottom: 0.5em;}#sk-container-id-1 div.sk-estimator:hover {background-color: #d4ebff;}#sk-container-id-1 div.sk-parallel-item::after {content: \"\";width: 100%;border-bottom: 1px solid gray;flex-grow: 1;}#sk-container-id-1 div.sk-label:hover label.sk-toggleable__label {background-color: #d4ebff;}#sk-container-id-1 div.sk-serial::before {content: \"\";position: absolute;border-left: 1px solid gray;box-sizing: border-box;top: 0;bottom: 0;left: 50%;z-index: 0;}#sk-container-id-1 div.sk-serial {display: flex;flex-direction: column;align-items: center;background-color: white;padding-right: 0.2em;padding-left: 0.2em;position: relative;}#sk-container-id-1 div.sk-item {position: relative;z-index: 1;}#sk-container-id-1 div.sk-parallel {display: flex;align-items: stretch;justify-content: center;background-color: white;position: relative;}#sk-container-id-1 div.sk-item::before, #sk-container-id-1 div.sk-parallel-item::before {content: \"\";position: absolute;border-left: 1px solid gray;box-sizing: border-box;top: 0;bottom: 0;left: 50%;z-index: -1;}#sk-container-id-1 div.sk-parallel-item {display: flex;flex-direction: column;z-index: 1;position: relative;background-color: white;}#sk-container-id-1 div.sk-parallel-item:first-child::after {align-self: flex-end;width: 50%;}#sk-container-id-1 div.sk-parallel-item:last-child::after {align-self: flex-start;width: 50%;}#sk-container-id-1 div.sk-parallel-item:only-child::after {width: 0;}#sk-container-id-1 div.sk-dashed-wrapped {border: 1px dashed gray;margin: 0 0.4em 0.5em 0.4em;box-sizing: border-box;padding-bottom: 0.4em;background-color: white;}#sk-container-id-1 div.sk-label label {font-family: monospace;font-weight: bold;display: inline-block;line-height: 1.2em;}#sk-container-id-1 div.sk-label-container {text-align: center;}#sk-container-id-1 div.sk-container {/* jupyter's `normalize.less` sets `[hidden] { display: none; }` but bootstrap.min.css set `[hidden] { display: none !important; }` so we also need the `!important` here to be able to override the default hidden behavior on the sphinx rendered scikit-learn.org. See: https://github.com/scikit-learn/scikit-learn/issues/21755 */display: inline-block !important;position: relative;}#sk-container-id-1 div.sk-text-repr-fallback {display: none;}</style><div id=\"sk-container-id-1\" class=\"sk-top-container\"><div class=\"sk-text-repr-fallback\"><pre>NearestNeighbors(algorithm=&#x27;brute&#x27;, metric=&#x27;cosine&#x27;)</pre><b>In a Jupyter environment, please rerun this cell to show the HTML representation or trust the notebook. <br />On GitHub, the HTML representation is unable to render, please try loading this page with nbviewer.org.</b></div><div class=\"sk-container\" hidden><div class=\"sk-item\"><div class=\"sk-estimator sk-toggleable\"><input class=\"sk-toggleable__control sk-hidden--visually\" id=\"sk-estimator-id-1\" type=\"checkbox\" checked><label for=\"sk-estimator-id-1\" class=\"sk-toggleable__label sk-toggleable__label-arrow\">NearestNeighbors</label><div class=\"sk-toggleable__content\"><pre>NearestNeighbors(algorithm=&#x27;brute&#x27;, metric=&#x27;cosine&#x27;)</pre></div></div></div></div></div>"
            ]
          },
          "metadata": {},
          "execution_count": 13
        }
      ]
    },
    {
      "cell_type": "code",
      "source": [
        "%%capture\n",
        "!pip install joblib"
      ],
      "metadata": {
        "id": "YPsYOvvC9tf2"
      },
      "execution_count": null,
      "outputs": []
    },
    {
      "cell_type": "code",
      "source": [
        "import joblib\n",
        "\n",
        "# Save the NearestNeighbors model to a file\n",
        "model_filename = save_path + 'artist_knn_model.pkl'\n",
        "joblib.dump(knn_model, model_filename)"
      ],
      "metadata": {
        "id": "QKfkBPJpz1g4"
      },
      "execution_count": null,
      "outputs": []
    },
    {
      "cell_type": "code",
      "source": [
        "np_ents = np.array(entities)"
      ],
      "metadata": {
        "id": "HuBDdY32Ag7K"
      },
      "execution_count": null,
      "outputs": []
    },
    {
      "cell_type": "code",
      "source": [
        "np.save(save_path + 'artist_entities.npy', np_ents)"
      ],
      "metadata": {
        "id": "BGPDSYPhAmnh"
      },
      "execution_count": null,
      "outputs": []
    }
  ]
}