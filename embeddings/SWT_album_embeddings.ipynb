{
  "nbformat": 4,
  "nbformat_minor": 0,
  "metadata": {
    "colab": {
      "provenance": [],
      "machine_shape": "hm"
    },
    "kernelspec": {
      "name": "python3",
      "display_name": "Python 3"
    },
    "language_info": {
      "name": "python"
    }
  },
  "cells": [
    {
      "cell_type": "code",
      "execution_count": 21,
      "metadata": {
        "colab": {
          "base_uri": "https://localhost:8080/"
        },
        "id": "kkXcnljBL5c_",
        "outputId": "583b466f-6505-4c4f-a382-dcac3c521746"
      },
      "outputs": [
        {
          "output_type": "stream",
          "name": "stdout",
          "text": [
            "Drive already mounted at /content/gdrive; to attempt to forcibly remount, call drive.mount(\"/content/gdrive\", force_remount=True).\n"
          ]
        }
      ],
      "source": [
        "from google.colab import drive\n",
        "drive.mount('/content/gdrive')"
      ]
    },
    {
      "cell_type": "code",
      "source": [
        "%%capture\n",
        "!pip install pyrdf2vec rdflib"
      ],
      "metadata": {
        "id": "keMbCdkJMJrl"
      },
      "execution_count": 2,
      "outputs": []
    },
    {
      "cell_type": "code",
      "source": [
        "path = '/content/gdrive/MyDrive/SWT/'\n",
        "save_path = '/content/gdrive/MyDrive/SWT/final_data/'"
      ],
      "metadata": {
        "id": "zGa2ns9GMBVX"
      },
      "execution_count": 16,
      "outputs": []
    },
    {
      "cell_type": "code",
      "source": [
        "%%capture\n",
        "import pandas as pd\n",
        "import rdflib\n",
        "from pyrdf2vec import RDF2VecTransformer\n",
        "from pyrdf2vec.embedders import Word2Vec\n",
        "from pyrdf2vec.graphs import KG\n",
        "from pyrdf2vec.walkers import RandomWalker"
      ],
      "metadata": {
        "id": "mYrrPN6gMHIi"
      },
      "execution_count": 3,
      "outputs": []
    },
    {
      "cell_type": "code",
      "source": [
        "transformer = RDF2VecTransformer(\n",
        "    Word2Vec(epochs=10),\n",
        "    walkers=[RandomWalker(4, 10, with_reverse=False, n_jobs=2)],\n",
        "    verbose=1\n",
        ")"
      ],
      "metadata": {
        "id": "dKzSw61YMezJ"
      },
      "execution_count": 4,
      "outputs": []
    },
    {
      "cell_type": "code",
      "source": [
        "kg = KG(\n",
        "        path + \"album.ttl\",\n",
        "        fmt='turtle',\n",
        "        skip_predicates={\n",
        "        \"http://ns.inria.fr/wasabi/ontology/iTunes_page\",\n",
        "        \"http://purl.org/ontology/mo/musicbrainz_guid\",\n",
        "        \"http://purl.org/ontology/mo/discogs\",\n",
        "        \"http://ns.inria.fr/wasabi/ontology/amazon_page\",\n",
        "        \"http://schema.org/disambiguatingDescription\",\n",
        "        \"http://purl.org/ontology/mo/musicbrainz\",\n",
        "        \"http://schema.org/datePublished\",\n",
        "        \"http://schema.org/barcode\",\n",
        "        \"http://ns.inria.fr/wasabi/ontology/discogs_id\",\n",
        "        \"http://ns.inria.fr/wasabi/ontology/allMusic_page\",\n",
        "        \"http://ns.inria.fr/wasabi/ontology/deezer_page\",\n",
        "        \"http://ns.inria.fr/wasabi/ontology/deezer_album_id\",\n",
        "        \"http://purl.org/ontology/mo/upc\",\n",
        "        \"http://ns.inria.fr/wasabi/ontology/album_length\",\n",
        "        \"http://purl.org/ontology/mo/homepage\",\n",
        "        \"http://purl.org/ontology/mo/uuid\",\n",
        "        \"http://purl.org/ontology/mo/wikipedia\",\n",
        "        \"http://ns.inria.fr/wasabi/ontology/spotify_page\",\n",
        "        },\n",
        "        literals = [\n",
        "        [\"http://purl.org/dc/terms/title\"],\n",
        "        [\"http://purl.org/ontology/mo/genre\"],\n",
        "        [\"http://schema.org/releaseDate\"],\n",
        "        [\"http://purl.org/ontology/mo/performer\"],\n",
        "        [\"http://purl.org/dc/terms/language\"],\n",
        "        [\"http://schema.org/location\"],\n",
        "        [\"http://ns.inria.fr/wasabi/ontology/deezer_fans\"],\n",
        "        [\"http://ns.inria.fr/wasabi/ontology/has_explicit_lyrics\"]\n",
        "    ],\n",
        ")"
      ],
      "metadata": {
        "id": "Lq_THSitSaPS"
      },
      "execution_count": null,
      "outputs": []
    },
    {
      "cell_type": "code",
      "source": [
        "data = pd.read_csv(path + \"album_entities.csv\")\n",
        "entities = data[data.columns[0]].values.tolist()"
      ],
      "metadata": {
        "id": "ecJchGWyMPhg"
      },
      "execution_count": 22,
      "outputs": []
    },
    {
      "cell_type": "code",
      "source": [
        "embeddings, literals = transformer.fit_transform(\n",
        "    kg,\n",
        "    entities\n",
        ")"
      ],
      "metadata": {
        "colab": {
          "base_uri": "https://localhost:8080/"
        },
        "id": "nJ1cggV2Mj7a",
        "outputId": "db38a9dc-48a1-4f04-cd3b-4dc085fc4e06"
      },
      "execution_count": 7,
      "outputs": [
        {
          "output_type": "stream",
          "name": "stderr",
          "text": [
            "100%|██████████| 208742/208742 [03:52<00:00, 897.24it/s]\n"
          ]
        },
        {
          "output_type": "stream",
          "name": "stdout",
          "text": [
            "Extracted 1339461 walks for 208742 entities (233.2740s)\n",
            "Fitted 1339461 walks (48.0241s)\n"
          ]
        },
        {
          "output_type": "stream",
          "name": "stderr",
          "text": [
            "100%|██████████| 208742/208742 [00:22<00:00, 9479.28it/s]"
          ]
        },
        {
          "output_type": "stream",
          "name": "stdout",
          "text": [
            "Extracted 208742 literals for 208742 entities (22.0251s)\n"
          ]
        },
        {
          "output_type": "stream",
          "name": "stderr",
          "text": [
            "\n"
          ]
        }
      ]
    },
    {
      "cell_type": "code",
      "source": [
        "import numpy as np"
      ],
      "metadata": {
        "id": "1Vl25OwP7r5D"
      },
      "execution_count": 10,
      "outputs": []
    },
    {
      "cell_type": "code",
      "source": [
        "import pickle"
      ],
      "metadata": {
        "id": "pN8HrwZV8T36"
      },
      "execution_count": 11,
      "outputs": []
    },
    {
      "cell_type": "code",
      "source": [
        "embeddings_array = np.array(embeddings)\n",
        "output_file_path = save_path + \"album_embeddings.npy\"\n",
        "np.save(output_file_path, embeddings_array)"
      ],
      "metadata": {
        "id": "vZgZorhT8Yk0"
      },
      "execution_count": 17,
      "outputs": []
    },
    {
      "cell_type": "code",
      "source": [
        "literals_array = np.array(literals)\n",
        "output_file_path = save_path + \"album_literals.npy\"\n",
        "np.save(output_file_path, literals_array)"
      ],
      "metadata": {
        "id": "qlqT0ak5PzWp"
      },
      "execution_count": 18,
      "outputs": []
    },
    {
      "cell_type": "code",
      "source": [
        "from sklearn.neighbors import NearestNeighbors\n",
        "\n",
        "embeddings = np.load(path + 'embeddings.npy')\n",
        "\n",
        "n_neighbors = 5\n",
        "knn_model = NearestNeighbors(n_neighbors=n_neighbors, algorithm='brute', metric='cosine')\n",
        "knn_model.fit(embeddings)"
      ],
      "metadata": {
        "colab": {
          "base_uri": "https://localhost:8080/"
        },
        "id": "YPBYGkrn8lRS",
        "outputId": "c3a8049b-fbcc-463e-ea72-e16f6c33b734"
      },
      "execution_count": 70,
      "outputs": [
        {
          "output_type": "stream",
          "name": "stdout",
          "text": [
            "Indices of Nearest Neighbors: [[  3454  99478 192706 192958   9579]]\n",
            "Distances to Nearest Neighbors: [[1.1920929e-07 3.2163680e-02 3.2301426e-02 3.6226273e-02 3.6351860e-02]]\n",
            "<class 'numpy.ndarray'>\n"
          ]
        }
      ]
    },
    {
      "cell_type": "code",
      "source": [
        "import numpy as np"
      ],
      "metadata": {
        "id": "LozfSUf1CPFg"
      },
      "execution_count": null,
      "outputs": []
    },
    {
      "cell_type": "code",
      "source": [
        "for i in indices[0]:\n",
        "  print(entities[i])"
      ],
      "metadata": {
        "colab": {
          "base_uri": "https://localhost:8080/"
        },
        "id": "t_8bazyA9MeL",
        "outputId": "7c48b5a1-18c1-48fc-f43f-beb9819c2f10"
      },
      "execution_count": 72,
      "outputs": [
        {
          "output_type": "stream",
          "name": "stdout",
          "text": [
            "http://ns.inria.fr/wasabi/album/5714debb25ac0d8aee35383e\n",
            "http://ns.inria.fr/wasabi/album/5714debb25ac0d8aee36085b\n",
            "http://ns.inria.fr/wasabi/album/5714debb25ac0d8aee35618b\n",
            "http://ns.inria.fr/wasabi/album/5714debb25ac0d8aee356f2c\n",
            "http://ns.inria.fr/wasabi/album/5714debe25ac0d8aee37119c\n"
          ]
        }
      ]
    },
    {
      "cell_type": "code",
      "source": [
        "np_ents = np.array(entities)\n",
        "np.save(save_path + 'album_entities.npy', np_ents)"
      ],
      "metadata": {
        "id": "YPsYOvvC9tf2"
      },
      "execution_count": 23,
      "outputs": []
    }
  ]
}