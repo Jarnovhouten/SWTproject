{
  "nbformat": 4,
  "nbformat_minor": 0,
  "metadata": {
    "colab": {
      "provenance": [],
      "machine_shape": "hm"
    },
    "kernelspec": {
      "name": "python3",
      "display_name": "Python 3"
    },
    "language_info": {
      "name": "python"
    }
  },
  "cells": [
    {
      "cell_type": "code",
      "execution_count": 1,
      "metadata": {
        "colab": {
          "base_uri": "https://localhost:8080/"
        },
        "id": "kkXcnljBL5c_",
        "outputId": "d126c127-01ff-4d1b-e829-84baf5e0a795"
      },
      "outputs": [
        {
          "output_type": "stream",
          "name": "stdout",
          "text": [
            "Mounted at /content/gdrive\n"
          ]
        }
      ],
      "source": [
        "from google.colab import drive\n",
        "drive.mount('/content/gdrive')"
      ]
    },
    {
      "cell_type": "code",
      "source": [
        "%%capture\n",
        "!pip install pyrdf2vec rdflib"
      ],
      "metadata": {
        "id": "keMbCdkJMJrl"
      },
      "execution_count": 6,
      "outputs": []
    },
    {
      "cell_type": "code",
      "source": [
        "path = '/content/gdrive/MyDrive/SWT/'\n",
        "save_path = '/content/gdrive/MyDrive/SWT/final_data/'"
      ],
      "metadata": {
        "id": "zGa2ns9GMBVX"
      },
      "execution_count": 7,
      "outputs": []
    },
    {
      "cell_type": "code",
      "source": [
        "%%capture\n",
        "import pandas as pd\n",
        "import rdflib\n",
        "from pyrdf2vec import RDF2VecTransformer\n",
        "from pyrdf2vec.embedders import Word2Vec\n",
        "from pyrdf2vec.graphs import KG\n",
        "from pyrdf2vec.walkers import RandomWalker"
      ],
      "metadata": {
        "id": "mYrrPN6gMHIi"
      },
      "execution_count": 8,
      "outputs": []
    },
    {
      "cell_type": "code",
      "source": [
        "transformer = RDF2VecTransformer(\n",
        "    Word2Vec(epochs=10),\n",
        "    walkers=[RandomWalker(4, 10, with_reverse=False, n_jobs=2)],\n",
        "    verbose=1\n",
        ")"
      ],
      "metadata": {
        "id": "dKzSw61YMezJ"
      },
      "execution_count": 9,
      "outputs": []
    },
    {
      "cell_type": "code",
      "source": [
        "kg = KG(\n",
        "        path + \"artist.ttl\",\n",
        "        fmt='turtle',\n",
        "        skip_predicates = {\n",
        "            \"http://xmlns.com/foaf/0.1/name\",\n",
        "            \"http://ns.inria.fr/wasabi/ontology/iTunes_page\",\n",
        "            \"http://purl.org/ontology/mo/musicbrainz_guid\",\n",
        "            \"http://purl.org/ontology/mo/discogs\",\n",
        "            \"http://ns.inria.fr/wasabi/ontology/secondHandSongs_page\",\n",
        "            \"http://ns.inria.fr/wasabi/ontology/amazon_page\",\n",
        "            \"http://ns.inria.fr/wasabi/ontology/name_without_accent\",\n",
        "            \"http://schema.org/disambiguatingDescription\",\n",
        "            \"http://ns.inria.fr/wasabi/ontology/wikidata_page\",\n",
        "            \"http://purl.org/ontology/mo/musicbrainz\",\n",
        "            \"http://ns.inria.fr/wasabi/ontology/musicbrainz_id\",\n",
        "            \"http://purl.org/dc/terms/abstract\",\n",
        "            \"http://ns.inria.fr/wasabi/ontology/BBC_page\",\n",
        "            \"http://ns.inria.fr/wasabi/ontology/instagram_page\",\n",
        "            \"http://ns.inria.fr/wasabi/ontology/discogs_id\",\n",
        "            \"http://purl.org/ontology/mo/myspace\",\n",
        "            \"http://ns.inria.fr/wasabi/ontology/twitter_page\",\n",
        "            \"http://ns.inria.fr/wasabi/ontology/allMusic_page\",\n",
        "            \"http://ns.inria.fr/wasabi/ontology/deezer_page\",\n",
        "            \"http://ns.inria.fr/wasabi/ontology/deezer_artist_id\",\n",
        "            \"http://ns.inria.fr/wasabi/ontology/soundCloud_page\",\n",
        "            \"http://schema.org/genre\",\n",
        "            \"http://ns.inria.fr/wasabi/ontology/pureVolume_page\",\n",
        "            \"http://www.w3.org/2002/07/owl#sameAs\",\n",
        "            \"http://purl.org/ontology/mo/homepage\",\n",
        "            \"http://ns.inria.fr/wasabi/ontology/lastFm_page\",\n",
        "            \"http://ns.inria.fr/wasabi/ontology/googlePlus_page\",\n",
        "            \"http://ns.inria.fr/wasabi/ontology/youTube_page\",\n",
        "            \"http://purl.org/ontology/mo/uuid\",\n",
        "            \"http://ns.inria.fr/wasabi/ontology/rateYourMusic_page\",\n",
        "            \"http://purl.org/ontology/mo/wikipedia\",\n",
        "            \"http://ns.inria.fr/wasabi/ontology/wikia_page\",\n",
        "            \"http://ns.inria.fr/wasabi/ontology/spotify_page\",\n",
        "            \"http://ns.inria.fr/wasabi/ontology/facebook_page\"\n",
        "        },\n",
        "        literals = [\n",
        "        ['http://www.w3.org/2000/01/rdf-schema#label'],\n",
        "        # ['http://dbpedia.org/ontology/abstract'],\n",
        "        ['http://dbpedia.org/ontology/genre'],\n",
        "        ['http://ns.inria.fr/wasabi/ontology/location'],\n",
        "        ['http://ns.inria.fr/wasabi/ontology/record_label'],\n",
        "        ['http://purl.org/dc/terms/subject'],\n",
        "        ['http://schema.org/birthDate'],\n",
        "        ['http://xmlns.com/foaf/0.1/gender'],\n",
        "        ['http://ns.inria.fr/wasabi/ontology/city'],\n",
        "        ['http://ns.inria.fr/wasabi/ontology/deezer_fans'],\n",
        "        ['http://dbpedia.org/ontology/associatedMusicalArtist'],\n",
        "        ['http://schema.org/foundingDate'],\n",
        "        ['http://schema.org/dissolutionDate'],\n",
        "        ['http://ns.inria.fr/wasabi/ontology/country']\n",
        "    ],\n",
        ")"
      ],
      "metadata": {
        "id": "Lq_THSitSaPS"
      },
      "execution_count": 10,
      "outputs": []
    },
    {
      "cell_type": "code",
      "source": [
        "data = pd.read_csv(path + \"artist_entities.csv\")\n",
        "entities = data[data.columns[0]].values.tolist()"
      ],
      "metadata": {
        "id": "ecJchGWyMPhg"
      },
      "execution_count": 11,
      "outputs": []
    },
    {
      "cell_type": "code",
      "source": [
        "embeddings, literals = transformer.fit_transform(\n",
        "    kg,\n",
        "    entities\n",
        ")"
      ],
      "metadata": {
        "colab": {
          "base_uri": "https://localhost:8080/"
        },
        "id": "nJ1cggV2Mj7a",
        "outputId": "abc18cd8-2f81-47bf-9fc4-c24bee774366"
      },
      "execution_count": 12,
      "outputs": [
        {
          "output_type": "stream",
          "name": "stderr",
          "text": [
            "100%|██████████| 77491/77491 [01:55<00:00, 672.44it/s]\n"
          ]
        },
        {
          "output_type": "stream",
          "name": "stdout",
          "text": [
            "Extracted 557491 walks for 77491 entities (115.6691s)\n",
            "Fitted 557491 walks (23.4363s)\n"
          ]
        },
        {
          "output_type": "stream",
          "name": "stderr",
          "text": [
            "100%|██████████| 77491/77491 [00:13<00:00, 5654.30it/s]"
          ]
        },
        {
          "output_type": "stream",
          "name": "stdout",
          "text": [
            "Extracted 77491 literals for 77491 entities (13.7110s)\n"
          ]
        },
        {
          "output_type": "stream",
          "name": "stderr",
          "text": [
            "\n"
          ]
        }
      ]
    },
    {
      "cell_type": "code",
      "source": [
        "import numpy as np"
      ],
      "metadata": {
        "id": "1Vl25OwP7r5D"
      },
      "execution_count": 13,
      "outputs": []
    },
    {
      "cell_type": "code",
      "source": [
        "import pickle"
      ],
      "metadata": {
        "id": "pN8HrwZV8T36"
      },
      "execution_count": 14,
      "outputs": []
    },
    {
      "cell_type": "code",
      "source": [
        "embeddings_array = np.array(embeddings)\n",
        "output_file_path = save_path + \"artist_embeddings_noab.npy\"\n",
        "np.save(output_file_path, embeddings_array)"
      ],
      "metadata": {
        "id": "vZgZorhT8Yk0"
      },
      "execution_count": 15,
      "outputs": []
    },
    {
      "cell_type": "code",
      "source": [
        "literals_array = np.array(literals)\n",
        "output_file_path = save_path + \"artist_literals_noab.npy\"\n",
        "np.save(output_file_path, literals_array)"
      ],
      "metadata": {
        "id": "qlqT0ak5PzWp",
        "colab": {
          "base_uri": "https://localhost:8080/"
        },
        "outputId": "e68edf0a-1a71-476c-deec-bef1e8e719de"
      },
      "execution_count": 16,
      "outputs": [
        {
          "output_type": "stream",
          "name": "stderr",
          "text": [
            "<ipython-input-16-18d31366e87d>:1: VisibleDeprecationWarning: Creating an ndarray from ragged nested sequences (which is a list-or-tuple of lists-or-tuples-or ndarrays with different lengths or shapes) is deprecated. If you meant to do this, you must specify 'dtype=object' when creating the ndarray.\n",
            "  literals_array = np.array(literals)\n"
          ]
        }
      ]
    },
    {
      "cell_type": "code",
      "source": [
        "from sklearn.neighbors import NearestNeighbors\n",
        "\n",
        "embeddings = np.load(save_path + 'artist_embeddings_noab.npy')\n",
        "\n",
        "n_neighbors = 5\n",
        "knn_model = NearestNeighbors(n_neighbors=n_neighbors, algorithm='brute', metric='cosine')\n",
        "knn_model.fit(embeddings)"
      ],
      "metadata": {
        "colab": {
          "base_uri": "https://localhost:8080/"
        },
        "id": "YPBYGkrn8lRS",
        "outputId": "4544ea79-849d-47f1-da48-c57e7364423b"
      },
      "execution_count": 20,
      "outputs": [
        {
          "output_type": "stream",
          "name": "stdout",
          "text": [
            "Indices of Nearest Neighbors: [[47083 59491 42117 11522 73101]]\n",
            "Distances to Nearest Neighbors: [[0.         0.05574459 0.05666602 0.07660633 0.08123285]]\n",
            "<class 'numpy.ndarray'>\n"
          ]
        }
      ]
    },
    {
      "cell_type": "code",
      "source": [
        "for i in indices[0]:\n",
        "  print(entities[i])"
      ],
      "metadata": {
        "colab": {
          "base_uri": "https://localhost:8080/"
        },
        "id": "t_8bazyA9MeL",
        "outputId": "a8f5d360-ea29-4409-a377-baf5f5dcd389"
      },
      "execution_count": 21,
      "outputs": [
        {
          "output_type": "stream",
          "name": "stdout",
          "text": [
            "http://ns.inria.fr/wasabi/artist/56d8258553a7ddfc01f941f7\n",
            "http://ns.inria.fr/wasabi/artist/56d850dd53a7ddfc01f97f7f\n",
            "http://ns.inria.fr/wasabi/artist/56d80f2b53a7ddfc01f92234\n",
            "http://ns.inria.fr/wasabi/artist/56d81f1c53a7ddfc01f93867\n",
            "http://ns.inria.fr/wasabi/artist/56d9659dcc2ddd0c0f6ba833\n"
          ]
        }
      ]
    },
    {
      "cell_type": "code",
      "source": [
        "%%capture\n",
        "!pip install joblib"
      ],
      "metadata": {
        "id": "YPsYOvvC9tf2"
      },
      "execution_count": 17,
      "outputs": []
    },
    {
      "cell_type": "code",
      "source": [
        "import joblib\n",
        "\n",
        "# Save the NearestNeighbors model to a file\n",
        "model_filename = save_path + 'knn_model.pkl'\n",
        "joblib.dump(knn_model, model_filename)"
      ],
      "metadata": {
        "id": "QKfkBPJpz1g4"
      },
      "execution_count": 22,
      "outputs": []
    },
    {
      "cell_type": "code",
      "source": [
        "np_ents = np.array(entities)"
      ],
      "metadata": {
        "id": "HuBDdY32Ag7K"
      },
      "execution_count": 25,
      "outputs": []
    },
    {
      "cell_type": "code",
      "source": [
        "np.save(save_path + 'artist_entities.npy', np_ents)"
      ],
      "metadata": {
        "id": "BGPDSYPhAmnh"
      },
      "execution_count": 26,
      "outputs": []
    },
    {
      "cell_type": "code",
      "source": [],
      "metadata": {
        "id": "ByQDZnmmA5Bm"
      },
      "execution_count": null,
      "outputs": []
    }
  ]
}